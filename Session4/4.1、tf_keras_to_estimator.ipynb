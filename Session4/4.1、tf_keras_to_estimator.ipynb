{
 "cells": [
  {
   "cell_type": "code",
   "execution_count": 1,
   "metadata": {},
   "outputs": [],
   "source": [
    "from IPython.core.interactiveshell import InteractiveShell\n",
    "InteractiveShell.ast_node_interactivity = \"all\" \n",
    "import numpy as np\n",
    "import os\n",
    "import gzip\n",
    "\n",
    "import tensorflow as tf\n",
    "from tensorflow import keras\n",
    "import pandas as pd\n",
    "import matplotlib as mpl\n",
    "import matplotlib.pyplot as plt"
   ]
  },
  {
   "cell_type": "code",
   "execution_count": 2,
   "metadata": {},
   "outputs": [
    {
     "name": "stdout",
     "output_type": "stream",
     "text": [
      "   PassengerId  Survived  Pclass  \\\n",
      "0            1         0       3   \n",
      "1            2         1       1   \n",
      "2            3         1       3   \n",
      "3            4         1       1   \n",
      "4            5         0       3   \n",
      "\n",
      "                                                Name     Sex   Age  SibSp  \\\n",
      "0                            Braund, Mr. Owen Harris    male  22.0      1   \n",
      "1  Cumings, Mrs. John Bradley (Florence Briggs Th...  female  38.0      1   \n",
      "2                             Heikkinen, Miss. Laina  female  26.0      0   \n",
      "3       Futrelle, Mrs. Jacques Heath (Lily May Peel)  female  35.0      1   \n",
      "4                           Allen, Mr. William Henry    male  35.0      0   \n",
      "\n",
      "   Parch            Ticket     Fare Cabin Embarked  \n",
      "0      0         A/5 21171   7.2500   NaN        S  \n",
      "1      0          PC 17599  71.2833   C85        C  \n",
      "2      0  STON/O2. 3101282   7.9250   NaN        S  \n",
      "3      0            113803  53.1000  C123        S  \n",
      "4      0            373450   8.0500   NaN        S  \n"
     ]
    }
   ],
   "source": [
    "train_file = './Titanic.train.csv'\n",
    "eval_file = './Titanic.valid.csv'\n",
    "\n",
    "from sklearn.model_selection import train_test_split\n",
    "train_df = pd.read_csv(train_file)\n",
    "eval_df = pd.read_csv(eval_file)\n",
    "\n",
    "print(train_df.head())"
   ]
  },
  {
   "cell_type": "code",
   "execution_count": 40,
   "metadata": {},
   "outputs": [
    {
     "data": {
      "text/plain": [
       "0        1\n",
       "1        2\n",
       "2        3\n",
       "3        4\n",
       "4        5\n",
       "      ... \n",
       "594    595\n",
       "595    596\n",
       "596    597\n",
       "597    598\n",
       "598    599\n",
       "Name: PassengerId, Length: 599, dtype: int64"
      ]
     },
     "execution_count": 40,
     "metadata": {},
     "output_type": "execute_result"
    },
    {
     "data": {
      "text/plain": [
       "0      600\n",
       "1      601\n",
       "2      602\n",
       "3      603\n",
       "4      604\n",
       "      ... \n",
       "287    887\n",
       "288    888\n",
       "289    889\n",
       "290    890\n",
       "291    891\n",
       "Name: PassengerId, Length: 292, dtype: int64"
      ]
     },
     "execution_count": 40,
     "metadata": {},
     "output_type": "execute_result"
    },
    {
     "data": {
      "text/plain": [
       "0                                Braund, Mr. Owen Harris\n",
       "1      Cumings, Mrs. John Bradley (Florence Briggs Th...\n",
       "2                                 Heikkinen, Miss. Laina\n",
       "3           Futrelle, Mrs. Jacques Heath (Lily May Peel)\n",
       "4                               Allen, Mr. William Henry\n",
       "                             ...                        \n",
       "594                              Chapman, Mr. John Henry\n",
       "595                          Van Impe, Mr. Jean Baptiste\n",
       "596                           Leitch, Miss. Jessie Wills\n",
       "597                                  Johnson, Mr. Alfred\n",
       "598                                    Boulos, Mr. Hanna\n",
       "Name: Name, Length: 599, dtype: object"
      ]
     },
     "execution_count": 40,
     "metadata": {},
     "output_type": "execute_result"
    },
    {
     "data": {
      "text/plain": [
       "0           Duff Gordon, Sir. Cosmo Edmund (\"Mr Morgan\")\n",
       "1      Jacobsohn, Mrs. Sidney Samuel (Amy Frances Chr...\n",
       "2                                   Slabenoff, Mr. Petco\n",
       "3                              Harrington, Mr. Charles H\n",
       "4                              Torber, Mr. Ernst William\n",
       "                             ...                        \n",
       "287                                Montvila, Rev. Juozas\n",
       "288                         Graham, Miss. Margaret Edith\n",
       "289             Johnston, Miss. Catherine Helen \"Carrie\"\n",
       "290                                Behr, Mr. Karl Howell\n",
       "291                                  Dooley, Mr. Patrick\n",
       "Name: Name, Length: 292, dtype: object"
      ]
     },
     "execution_count": 40,
     "metadata": {},
     "output_type": "execute_result"
    },
    {
     "name": "stdout",
     "output_type": "stream",
     "text": [
      "   Pclass     Sex   Age  SibSp  Parch            Ticket     Fare Cabin  \\\n",
      "0       3    male  22.0      1      0         A/5 21171   7.2500   NaN   \n",
      "1       1  female  38.0      1      0          PC 17599  71.2833   C85   \n",
      "2       3  female  26.0      0      0  STON/O2. 3101282   7.9250   NaN   \n",
      "3       1  female  35.0      1      0            113803  53.1000  C123   \n",
      "4       3    male  35.0      0      0            373450   8.0500   NaN   \n",
      "\n",
      "  Embarked  \n",
      "0        S  \n",
      "1        C  \n",
      "2        S  \n",
      "3        S  \n",
      "4        S  \n"
     ]
    }
   ],
   "source": [
    "train_df.pop('PassengerId')\n",
    "eval_df.pop('PassengerId')\n",
    "train_df.pop('Name')\n",
    "eval_df.pop('Name')\n",
    "y_train = train_df.pop('Survived')\n",
    "y_eval = eval_df.pop('Survived')\n",
    "print(train_df.head())"
   ]
  },
  {
   "cell_type": "code",
   "execution_count": 41,
   "metadata": {},
   "outputs": [
    {
     "data": {
      "text/html": [
       "<div>\n",
       "<style scoped>\n",
       "    .dataframe tbody tr th:only-of-type {\n",
       "        vertical-align: middle;\n",
       "    }\n",
       "\n",
       "    .dataframe tbody tr th {\n",
       "        vertical-align: top;\n",
       "    }\n",
       "\n",
       "    .dataframe thead th {\n",
       "        text-align: right;\n",
       "    }\n",
       "</style>\n",
       "<table border=\"1\" class=\"dataframe\">\n",
       "  <thead>\n",
       "    <tr style=\"text-align: right;\">\n",
       "      <th></th>\n",
       "      <th>Pclass</th>\n",
       "      <th>Age</th>\n",
       "      <th>SibSp</th>\n",
       "      <th>Parch</th>\n",
       "      <th>Fare</th>\n",
       "    </tr>\n",
       "  </thead>\n",
       "  <tbody>\n",
       "    <tr>\n",
       "      <th>count</th>\n",
       "      <td>599.000000</td>\n",
       "      <td>473.000000</td>\n",
       "      <td>599.000000</td>\n",
       "      <td>599.000000</td>\n",
       "      <td>599.000000</td>\n",
       "    </tr>\n",
       "    <tr>\n",
       "      <th>mean</th>\n",
       "      <td>2.310518</td>\n",
       "      <td>29.742072</td>\n",
       "      <td>0.537563</td>\n",
       "      <td>0.375626</td>\n",
       "      <td>31.804159</td>\n",
       "    </tr>\n",
       "    <tr>\n",
       "      <th>std</th>\n",
       "      <td>0.834302</td>\n",
       "      <td>14.523569</td>\n",
       "      <td>1.097965</td>\n",
       "      <td>0.774256</td>\n",
       "      <td>46.313609</td>\n",
       "    </tr>\n",
       "    <tr>\n",
       "      <th>min</th>\n",
       "      <td>1.000000</td>\n",
       "      <td>0.750000</td>\n",
       "      <td>0.000000</td>\n",
       "      <td>0.000000</td>\n",
       "      <td>0.000000</td>\n",
       "    </tr>\n",
       "    <tr>\n",
       "      <th>25%</th>\n",
       "      <td>2.000000</td>\n",
       "      <td>21.000000</td>\n",
       "      <td>0.000000</td>\n",
       "      <td>0.000000</td>\n",
       "      <td>7.925000</td>\n",
       "    </tr>\n",
       "    <tr>\n",
       "      <th>50%</th>\n",
       "      <td>3.000000</td>\n",
       "      <td>28.000000</td>\n",
       "      <td>0.000000</td>\n",
       "      <td>0.000000</td>\n",
       "      <td>14.500000</td>\n",
       "    </tr>\n",
       "    <tr>\n",
       "      <th>75%</th>\n",
       "      <td>3.000000</td>\n",
       "      <td>38.000000</td>\n",
       "      <td>1.000000</td>\n",
       "      <td>0.000000</td>\n",
       "      <td>30.500000</td>\n",
       "    </tr>\n",
       "    <tr>\n",
       "      <th>max</th>\n",
       "      <td>3.000000</td>\n",
       "      <td>71.000000</td>\n",
       "      <td>8.000000</td>\n",
       "      <td>5.000000</td>\n",
       "      <td>512.329200</td>\n",
       "    </tr>\n",
       "  </tbody>\n",
       "</table>\n",
       "</div>"
      ],
      "text/plain": [
       "           Pclass         Age       SibSp       Parch        Fare\n",
       "count  599.000000  473.000000  599.000000  599.000000  599.000000\n",
       "mean     2.310518   29.742072    0.537563    0.375626   31.804159\n",
       "std      0.834302   14.523569    1.097965    0.774256   46.313609\n",
       "min      1.000000    0.750000    0.000000    0.000000    0.000000\n",
       "25%      2.000000   21.000000    0.000000    0.000000    7.925000\n",
       "50%      3.000000   28.000000    0.000000    0.000000   14.500000\n",
       "75%      3.000000   38.000000    1.000000    0.000000   30.500000\n",
       "max      3.000000   71.000000    8.000000    5.000000  512.329200"
      ]
     },
     "execution_count": 41,
     "metadata": {},
     "output_type": "execute_result"
    },
    {
     "name": "stdout",
     "output_type": "stream",
     "text": [
      "(599, 9) (292, 9)\n"
     ]
    }
   ],
   "source": [
    "# 计算统计量\n",
    "train_df.describe()\n",
    "print(train_df.shape, eval_df.shape)"
   ]
  },
  {
   "cell_type": "code",
   "execution_count": 42,
   "metadata": {},
   "outputs": [
    {
     "data": {
      "text/plain": [
       "<matplotlib.axes._subplots.AxesSubplot at 0x1d83eb2ca20>"
      ]
     },
     "execution_count": 42,
     "metadata": {},
     "output_type": "execute_result"
    },
    {
     "data": {
      "image/png": "[encoded data removed]",
      "text/plain": [
       "<Figure size 432x288 with 1 Axes>"
      ]
     },
     "metadata": {
      "needs_background": "light"
     },
     "output_type": "display_data"
    }
   ],
   "source": [
    "train_df.Age.hist(bins = 20)"
   ]
  },
  {
   "cell_type": "code",
   "execution_count": 43,
   "metadata": {},
   "outputs": [
    {
     "data": {
      "text/plain": [
       "<matplotlib.axes._subplots.AxesSubplot at 0x1d83e9c9dd8>"
      ]
     },
     "execution_count": 43,
     "metadata": {},
     "output_type": "execute_result"
    },
    {
     "data": {
      "image/png": "[encoded data removed]",
      "text/plain": [
       "<Figure size 432x288 with 1 Axes>"
      ]
     },
     "metadata": {
      "needs_background": "light"
     },
     "output_type": "display_data"
    }
   ],
   "source": [
    "# 要是和上一个单元放在一个单元一起执行，会出问题\n",
    "train_df.Sex.value_counts().plot(kind = 'barh')"
   ]
  },
  {
   "cell_type": "code",
   "execution_count": 44,
   "metadata": {},
   "outputs": [
    {
     "data": {
      "text/plain": [
       "<matplotlib.axes._subplots.AxesSubplot at 0x1d83fead550>"
      ]
     },
     "execution_count": 44,
     "metadata": {},
     "output_type": "execute_result"
    },
    {
     "data": {
      "image/png": "[encoded data removed]",
      "text/plain": [
       "<Figure size 432x288 with 1 Axes>"
      ]
     },
     "metadata": {
      "needs_background": "light"
     },
     "output_type": "display_data"
    }
   ],
   "source": [
    "# 避免与method重名，也可以这么取\n",
    "train_df['Pclass'].value_counts().plot(kind = 'barh')"
   ]
  },
  {
   "cell_type": "code",
   "execution_count": 45,
   "metadata": {},
   "outputs": [
    {
     "data": {
      "text/plain": [
       "Sex\n",
       "female    0.748879\n",
       "male      0.180851\n",
       "Name: Survived, dtype: float64"
      ]
     },
     "execution_count": 45,
     "metadata": {},
     "output_type": "execute_result"
    },
    {
     "data": {
      "text/plain": [
       "<matplotlib.axes._subplots.AxesSubplot at 0x1d83ea0b358>"
      ]
     },
     "execution_count": 45,
     "metadata": {},
     "output_type": "execute_result"
    },
    {
     "data": {
      "image/png": "[encoded data removed]",
      "text/plain": [
       "<Figure size 432x288 with 1 Axes>"
      ]
     },
     "metadata": {
      "needs_background": "light"
     },
     "output_type": "display_data"
    }
   ],
   "source": [
    "# 先分组，再按组计算均值\n",
    "pd.concat([train_df, y_train], axis=1).groupby('Sex').Survived.mean()\n",
    "pd.concat([train_df, y_train], axis=1).groupby('Sex').Survived.mean().plot(kind='bar')"
   ]
  },
  {
   "cell_type": "code",
   "execution_count": null,
   "metadata": {},
   "outputs": [],
   "source": [
    "# feature_column 针对列数据进行封装\n",
    "# 离散、连续\n",
    "# Pclass Sex Age SibSp Parch Ticket Fare Cabin\n",
    "categorical_columns = ['Sex', 'SibSp', 'Parch', 'Pclass', 'Cabin', 'Embarked', 'Ticket']\n",
    "numeric_columns = ['Age', 'Fare']\n",
    "feature_columns = []\n",
    "# 离散\n",
    "for categorical_column in categorical_columns:\n",
    "    vocab = train_df[categorical_column].unique()\n",
    "    print(categorical_column, vocab)\n",
    "    # tf.feature_column可以嵌套，类似于pipeline\n",
    "    feature_columns.append(\n",
    "        tf.feature_column.indicator_column(\n",
    "            tf.feature_column.categorical_column_with_vocabulary_list(\n",
    "                categorical_column, vocab)))\n",
    "# 连续\n",
    "for numeric_column in numeric_columns:\n",
    "    feature_columns.append(\n",
    "        tf.feature_column.numeric_column(\n",
    "            numeric_column, dtype=tf.float32))"
   ]
  },
  {
   "cell_type": "code",
   "execution_count": null,
   "metadata": {},
   "outputs": [],
   "source": [
    "# 生成dataset\n",
    "def make_dataset(data_df, label_df, epochs=10, shuffle=True,batch_size=32):\n",
    "    dataset = tf.data.Dataset.from_tensor_slices(\n",
    "        # 需要将DataFrame转为字典\n",
    "        (dict(data_df), label_df))\n",
    "    if shuffle:\n",
    "        dataset = dataset.shuffle(10000)\n",
    "    dataset = dataset.repeat(epochs).batch(batch_size)\n",
    "    return dataset\n",
    "\n",
    "train_dataset = make_dataset(train_df, y_train, batch_size=5)\n",
    "# Can't convert Python sequence with mixed types to Tensor.\n",
    "\n",
    "# 获取一个值，打印\n",
    "# 结果：字典{\"feature_name\": tf.tensor:}\n",
    "for x, y in train_dataset.take(1):\n",
    "    print(x, y)"
   ]
  },
  {
   "cell_type": "code",
   "execution_count": null,
   "metadata": {},
   "outputs": [],
   "source": [
    "# feature_columns与dataset结合使用, 将feature_columns定义的变化规则运用到dataset中的每一个数据\n",
    "# keras.layers.DenseFeatures()\n",
    "for x, y in train_dataset:\n",
    "    age_column = feature_columns[7]\n",
    "    gender_column = feature_columns[0]\n",
    "    keras.layers.DenseFeatures(age_column)(x).numpy()\n",
    "    keras.layers.DenseFeatures(gender_column)(x).numpy()  # one-hot编码[1, 0], [0, 1]"
   ]
  },
  {
   "cell_type": "code",
   "execution_count": null,
   "metadata": {},
   "outputs": [],
   "source": [
    "model = keras.models.Sequential([\n",
    "    keras.layers.DenseFeatures(feature_columns),\n",
    "    keras.layers.Dense(100, activation='relu'),\n",
    "    keras.layers.Dense(100, activation='relu'),\n",
    "    keras.layers.Dense(2, activation='softmax')\n",
    "])\n",
    "model.compile(loss = 'sparse_categorical_crossentropy',\n",
    "              optimizer = keras.optimizers.SGD(lr=0.01),\n",
    "              metrics = ['accuracy'])"
   ]
  },
  {
   "cell_type": "code",
   "execution_count": null,
   "metadata": {},
   "outputs": [],
   "source": [
    "# 1、model.fit  steps_per_epoch过大可能因为数据不够而终止\n",
    "# 2、model --> estimator --> train\n",
    "train_dataset = make_dataset(train_df, y_train, epochs = 100)\n",
    "eval_dataset = make_dataset(eval_df, y_eval, epoch = 1, shuffle = False)\n",
    "history = model.fit(train_dataset, validation_data = eval_dataset,\n",
    "                    steps_per_epoch = 20, validation_steps =8, epochs = 100)\n",
    "\n",
    "estimator = keras.estimator.model_to_estimator(model)\n",
    "# 1、input_fn：def定义的具体函数， 或lambda匿名函数\n",
    "# 2、return  a、(feature, labels) b、dataset -> (feature, label)\n",
    "# 用lambda对make_dataset封装，使其没有参数\n",
    "estimator.train(input_fn = lambda : make_dataset(train_df, y_train, epochs=100))\n",
    "# alpha版会出现字典中的名字没有被保存，而是转换成了input1，input2，...\n",
    "# https://www.jianshu.com/p/463cb4a602a0"
   ]
  }
 ],
 "metadata": {
  "kernelspec": {
   "display_name": "Python 3",
   "language": "python",
   "name": "python3"
  },
  "language_info": {
   "codemirror_mode": {
    "name": "ipython",
    "version": 3
   },
   "file_extension": ".py",
   "mimetype": "text/x-python",
   "name": "python",
   "nbconvert_exporter": "python",
   "pygments_lexer": "ipython3",
   "version": "3.6.10"
  }
 },
 "nbformat": 4,
 "nbformat_minor": 2
}

{
 "cells": [
  {
   "cell_type": "code",
   "execution_count": 1,
   "metadata": {},
   "outputs": [],
   "source": [
    "from IPython.core.interactiveshell import InteractiveShell\n",
    "InteractiveShell.ast_node_interactivity = \"all\" "
   ]
  },
  {
   "cell_type": "code",
   "execution_count": 2,
   "metadata": {},
   "outputs": [
    {
     "data": {
      "text/plain": [
       "'2.0.0'"
      ]
     },
     "execution_count": 2,
     "metadata": {},
     "output_type": "execute_result"
    }
   ],
   "source": [
    "import numpy as np\n",
    "import os\n",
    "import gzip\n",
    "\n",
    "import tensorflow as tf\n",
    "from tensorflow import keras\n",
    "import pandas as pd\n",
    "import matplotlib as mpl\n",
    "import matplotlib.pyplot as plt\n",
    "tf.__version__"
   ]
  },
  {
   "cell_type": "code",
   "execution_count": 3,
   "metadata": {},
   "outputs": [
    {
     "name": "stdout",
     "output_type": "stream",
     "text": [
      "(5000, 28, 28) (5000,)\n",
      "(55000, 28, 28) (55000,)\n",
      "(10000, 28, 28) (10000,)\n"
     ]
    }
   ],
   "source": [
    "# 定义加载数据的函数，data_folder为保存gz数据的文件夹，该文件夹下有4个文件\n",
    "# 'train-labels-idx1-ubyte.gz', 'train-images-idx3-ubyte.gz',\n",
    "# 't10k-labels-idx1-ubyte.gz', 't10k-images-idx3-ubyte.gz'\n",
    "\n",
    "def load_data(data_folder):\n",
    "\n",
    "  files = [\n",
    "      'train-labels-idx1-ubyte.gz', 'train-images-idx3-ubyte.gz',\n",
    "      't10k-labels-idx1-ubyte.gz', 't10k-images-idx3-ubyte.gz'\n",
    "  ]\n",
    "\n",
    "  paths = []\n",
    "  for fname in files:\n",
    "    paths.append(os.path.join(data_folder,fname))\n",
    "\n",
    "  with gzip.open(paths[0], 'rb') as lbpath:\n",
    "    y_train = np.frombuffer(lbpath.read(), np.uint8, offset=8)\n",
    "\n",
    "  with gzip.open(paths[1], 'rb') as imgpath:\n",
    "    x_train = np.frombuffer(\n",
    "        imgpath.read(), np.uint8, offset=16).reshape(len(y_train), 28, 28)\n",
    "\n",
    "  with gzip.open(paths[2], 'rb') as lbpath:\n",
    "    y_test = np.frombuffer(lbpath.read(), np.uint8, offset=8)\n",
    "\n",
    "  with gzip.open(paths[3], 'rb') as imgpath:\n",
    "    x_test = np.frombuffer(\n",
    "        imgpath.read(), np.uint8, offset=16).reshape(len(y_test), 28, 28)\n",
    "\n",
    "  return (x_train, y_train), (x_test, y_test)\n",
    "\n",
    "(x_train_all, y_train_all), (x_test, y_test) = load_data('F:\\\\2、Deep Learning\\Tensorflow\\Keras_datasets\\Fashion-MNIST')\n",
    "x_valid, x_train = x_train_all[:5000], x_train_all[5000:]\n",
    "y_valid, y_train = y_train_all[:5000], y_train_all[5000:]\n",
    "print(x_valid.shape, y_valid.shape)\n",
    "print(x_train.shape, y_train.shape)\n",
    "print(x_test.shape, y_test.shape)\n",
    "\n",
    "def show_single_image(image_arr):\n",
    "    plt.imshow(image_arr, cmap='binary')\n",
    "    plt.show()\n",
    "\n",
    "def show_images(n_rows, n_cols, x_data, y_data, class_names):\n",
    "    assert len(x_data) == len(y_data)\n",
    "    assert n_rows * n_cols < len(x_data)\n",
    "    plt.figure(figsize=(n_cols * 1.4, n_rows * 1.6))\n",
    "    for row in range(n_rows):\n",
    "        for col in range(n_cols):\n",
    "            index = n_cols * row + col\n",
    "            plt.subplot(n_rows, n_cols, index + 1)\n",
    "            plt.imshow(x_data[index], cmap='binary', interpolation='nearest')\n",
    "            plt.axis('off')\n",
    "            plt.title(class_names[y_data[index]])\n",
    "    plt.show()\n",
    "\n",
    "class_names = ['T-shirt', 'Trouser', 'Pullover', 'Dress', 'Coat', 'Sandal',\n",
    "               'Shirt', 'Sneaker', 'Bag', 'Ankle Boot']\n",
    "\n",
    "# show_single_image(x_train[0])\n",
    "\n",
    "# show_images(3, 5, x_train, y_train, class_names)"
   ]
  },
  {
   "cell_type": "code",
   "execution_count": 4,
   "metadata": {},
   "outputs": [],
   "source": [
    "# 对数据做归一化  \n",
    "from sklearn.preprocessing import StandardScaler\n",
    "\n",
    "scaler = StandardScaler()\n",
    "# x_train:[None, 28, 28] ->[None, 784] (函数需求)->[None, 28, 28]  归一化要用到除法转为float\n",
    "x_train_scaled = scaler.fit_transform(x_train.astype(np.float32).reshape(-1, 1)).reshape(-1, 28, 28)\n",
    "x_valid_scaled = scaler.transform(x_valid.astype(np.float32).reshape(-1, 1)).reshape(-1, 28, 28)\n",
    "x_test_scaled = scaler.transform(x_test.astype(np.float32).reshape(-1, 1)).reshape(-1, 28, 28)"
   ]
  },
  {
   "cell_type": "code",
   "execution_count": 9,
   "metadata": {},
   "outputs": [],
   "source": [
    "def plot_learning_curve(history):\n",
    "    pd.DataFrame(history.history).plot(figsize=(8, 5))\n",
    "    plt.grid()\n",
    "    plt.ylim(0, 3)\n",
    "    plt.show()"
   ]
  },
  {
   "cell_type": "code",
   "execution_count": 6,
   "metadata": {
    "scrolled": true
   },
   "outputs": [],
   "source": [
    "model =keras.Sequential()\n",
    "model.add(keras.layers.Conv2D(filters=32, kernel_size=3, padding='same', \n",
    "                             activation='relu', input_shape=(28, 28, 1)))\n",
    "# 输入层以外用深度可分离卷积\n",
    "model.add(keras.layers.SeparableConv2D(filters=32, kernel_size=3, padding='same',\n",
    "                             activation='relu'))\n",
    "model.add(keras.layers.MaxPool2D(pool_size=2))\n",
    "\n",
    "#经过一次pooling后，一般#filters会翻倍，弥补长宽的减少\n",
    "model.add(keras.layers.SeparableConv2D(filters=64, kernel_size=3, padding='same',\n",
    "                                       activation='selu'))\n",
    "model.add(keras.layers.SeparableConv2D(filters=64, kernel_size=3, padding='same',\n",
    "                                       activation='selu'))\n",
    "model.add(keras.layers.MaxPool2D(pool_size=2))\n",
    "\n",
    "model.add(keras.layers.SeparableConv2D(filters=128, kernel_size=3, padding='same', \n",
    "                                       activation='selu'))\n",
    "model.add(keras.layers.SeparableConv2D(filters=128, kernel_size=3, padding='same',\n",
    "                                       activation='selu'))\n",
    "model.add(keras.layers.MaxPool2D(pool_size=2))\n",
    "\n",
    "# 展平\n",
    "model.add(keras.layers.Flatten())\n",
    "model.add(keras.layers.Dense(128, activation='selu'))\n",
    "model.add(keras.layers.Dense(10, activation='softmax'))\n",
    "\n",
    "model.compile(loss='sparse_categorical_crossentropy', optimizer='adam',\n",
    "              metrics=['accuracy'])"
   ]
  },
  {
   "cell_type": "code",
   "execution_count": 7,
   "metadata": {},
   "outputs": [
    {
     "name": "stdout",
     "output_type": "stream",
     "text": [
      "Model: \"sequential\"\n",
      "_________________________________________________________________\n",
      "Layer (type)                 Output Shape              Param #   \n",
      "=================================================================\n",
      "conv2d (Conv2D)              (None, 28, 28, 32)        320       \n",
      "_________________________________________________________________\n",
      "separable_conv2d (SeparableC (None, 28, 28, 32)        1344      \n",
      "_________________________________________________________________\n",
      "max_pooling2d (MaxPooling2D) (None, 14, 14, 32)        0         \n",
      "_________________________________________________________________\n",
      "separable_conv2d_1 (Separabl (None, 14, 14, 64)        2400      \n",
      "_________________________________________________________________\n",
      "separable_conv2d_2 (Separabl (None, 14, 14, 64)        4736      \n",
      "_________________________________________________________________\n",
      "max_pooling2d_1 (MaxPooling2 (None, 7, 7, 64)          0         \n",
      "_________________________________________________________________\n",
      "separable_conv2d_3 (Separabl (None, 7, 7, 128)         8896      \n",
      "_________________________________________________________________\n",
      "separable_conv2d_4 (Separabl (None, 7, 7, 128)         17664     \n",
      "_________________________________________________________________\n",
      "max_pooling2d_2 (MaxPooling2 (None, 3, 3, 128)         0         \n",
      "_________________________________________________________________\n",
      "flatten (Flatten)            (None, 1152)              0         \n",
      "_________________________________________________________________\n",
      "dense (Dense)                (None, 128)               147584    \n",
      "_________________________________________________________________\n",
      "dense_1 (Dense)              (None, 10)                1290      \n",
      "=================================================================\n",
      "Total params: 184,234\n",
      "Trainable params: 184,234\n",
      "Non-trainable params: 0\n",
      "_________________________________________________________________\n"
     ]
    }
   ],
   "source": [
    "model.summary()"
   ]
  },
  {
   "cell_type": "code",
   "execution_count": 8,
   "metadata": {
    "scrolled": false
   },
   "outputs": [
    {
     "name": "stdout",
     "output_type": "stream",
     "text": [
      "Train on 55000 samples, validate on 5000 samples\n",
      "Epoch 1/10\n",
      "   32/55000 [..............................] - ETA: 40:20 - loss: 2.3025 - accuracy: 0.1875WARNING:tensorflow:Method (on_train_batch_end) is slow compared to the batch update (0.207510). Check your callbacks.\n",
      "55000/55000 [==============================] - 79s 1ms/sample - loss: 0.5606 - accuracy: 0.7935 - val_loss: 0.3668 - val_accuracy: 0.8608\n",
      "Epoch 2/10\n",
      "55000/55000 [==============================] - 77s 1ms/sample - loss: 0.3229 - accuracy: 0.8808 - val_loss: 0.2989 - val_accuracy: 0.8908\n",
      "Epoch 3/10\n",
      "55000/55000 [==============================] - 78s 1ms/sample - loss: 0.2736 - accuracy: 0.8993 - val_loss: 0.2505 - val_accuracy: 0.9096\n",
      "Epoch 4/10\n",
      "55000/55000 [==============================] - 78s 1ms/sample - loss: 0.2416 - accuracy: 0.9122 - val_loss: 0.2665 - val_accuracy: 0.9038\n",
      "Epoch 5/10\n",
      "55000/55000 [==============================] - 77s 1ms/sample - loss: 0.2203 - accuracy: 0.9186 - val_loss: 0.2340 - val_accuracy: 0.9130\n",
      "Epoch 6/10\n",
      "55000/55000 [==============================] - 77s 1ms/sample - loss: 0.1971 - accuracy: 0.9274 - val_loss: 0.2265 - val_accuracy: 0.9166\n",
      "Epoch 7/10\n",
      "55000/55000 [==============================] - 77s 1ms/sample - loss: 0.1814 - accuracy: 0.9324 - val_loss: 0.2235 - val_accuracy: 0.9152\n",
      "Epoch 8/10\n",
      "55000/55000 [==============================] - 78s 1ms/sample - loss: 0.1633 - accuracy: 0.9391 - val_loss: 0.2204 - val_accuracy: 0.9220\n",
      "Epoch 9/10\n",
      "55000/55000 [==============================] - 77s 1ms/sample - loss: 0.1489 - accuracy: 0.9442 - val_loss: 0.2298 - val_accuracy: 0.9138\n",
      "Epoch 10/10\n",
      "55000/55000 [==============================] - 76s 1ms/sample - loss: 0.1362 - accuracy: 0.9490 - val_loss: 0.2348 - val_accuracy: 0.9188\n"
     ]
    },
    {
     "data": {
      "image/png": "[encoded data removed]",
      "text/plain": [
       "<Figure size 576x360 with 1 Axes>"
      ]
     },
     "metadata": {
      "needs_background": "light"
     },
     "output_type": "display_data"
    }
   ],
   "source": [
    "# Tensorboard(文件夹), Earlystopping, ModelCheckpoint(文件名)\n",
    "logdir = u'.\\separable-cnn-callbacks'\n",
    "if not os.path.exists(logdir):\n",
    "    os.mkdir(logdir)\n",
    "output_model_file = os.path.join(logdir, \"fashion_mnist_model_cnn.h5\")\n",
    "\n",
    "callbacks = [\n",
    "    keras.callbacks.TensorBoard(logdir),\n",
    "    # 默认保存最近模型， 改为最好的模型\n",
    "    # if save_best_only=True, the latest best model according to the quantity monitored will not be overwritten. \n",
    "    # If filepath doesn't contain formatting options like {epoch} then filepath will be overwritten by each new better model.\n",
    "    keras.callbacks.ModelCheckpoint(output_model_file, save_best_only='True'),\n",
    "    keras.callbacks.EarlyStopping(patience=5, min_delta=1e-3)\n",
    "]\n",
    "\n",
    "# 特别注意！！！！！！！！！\n",
    "# 4D tensor with shape: (batch, channels, rows, cols) if data_format is \"channels_first\" or 4D tensor \n",
    "# with shape: (batch, rows, cols, channels) if data_format is \"channels_last\".\n",
    "x_train_scaled = x_train_scaled.reshape(-1, 28, 28, 1)\n",
    "x_valid_scaled = x_valid_scaled.reshape(-1, 28, 28, 1)\n",
    "x_test_scaled = x_test_scaled.reshape(-1, 28, 28, 1)\n",
    "history = model.fit(x_train_scaled, y_train, epochs=10, validation_data=(x_valid_scaled, y_valid),\n",
    "                   callbacks = callbacks)\n",
    "\n",
    "# 模型fit完之后 打开anaconda prompt  激活tensorflow环境 输入tensorboard --logdir path\n",
    "plot_learning_curve(history)"
   ]
  },
  {
   "cell_type": "code",
   "execution_count": 10,
   "metadata": {},
   "outputs": [
    {
     "name": "stdout",
     "output_type": "stream",
     "text": [
      "10000/1 - 5s - loss: 0.3366 - accuracy: 0.9139\n"
     ]
    },
    {
     "data": {
      "text/plain": [
       "[0.2606941867828369, 0.9139]"
      ]
     },
     "execution_count": 10,
     "metadata": {},
     "output_type": "execute_result"
    }
   ],
   "source": [
    "model.evaluate(x_test_scaled, y_test, verbose=2)"
   ]
  },
  {
   "cell_type": "code",
   "execution_count": null,
   "metadata": {},
   "outputs": [],
   "source": []
  }
 ],
 "metadata": {
  "kernelspec": {
   "display_name": "Python 3",
   "language": "python",
   "name": "python3"
  },
  "language_info": {
   "codemirror_mode": {
    "name": "ipython",
    "version": 3
   },
   "file_extension": ".py",
   "mimetype": "text/x-python",
   "name": "python",
   "nbconvert_exporter": "python",
   "pygments_lexer": "ipython3",
   "version": "3.6.10"
  }
 },
 "nbformat": 4,
 "nbformat_minor": 2
}

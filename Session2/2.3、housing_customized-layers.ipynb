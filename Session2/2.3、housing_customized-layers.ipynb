{
 "cells": [
  {
   "cell_type": "code",
   "execution_count": 1,
   "metadata": {},
   "outputs": [],
   "source": [
    "from IPython.core.interactiveshell import InteractiveShell\n",
    "InteractiveShell.ast_node_interactivity = \"all\" "
   ]
  },
  {
   "cell_type": "code",
   "execution_count": 2,
   "metadata": {
    "scrolled": true
   },
   "outputs": [],
   "source": [
    "import numpy as np\n",
    "import os\n",
    "import gzip\n",
    "\n",
    "import tensorflow as tf\n",
    "from tensorflow import keras\n",
    "import pandas as pd\n",
    "import matplotlib as mpl\n",
    "import matplotlib.pyplot as plt"
   ]
  },
  {
   "cell_type": "code",
   "execution_count": 11,
   "metadata": {
    "scrolled": false
   },
   "outputs": [
    {
     "name": "stdout",
     "output_type": "stream",
     "text": [
      "(20640, 8)\n",
      "(20640,)\n"
     ]
    }
   ],
   "source": [
    "from sklearn.datasets import fetch_california_housing\n",
    "housing = fetch_california_housing()\n",
    "# print(housing.DESCR)\n",
    "print(housing.data.shape)\n",
    "print(housing.target.shape)"
   ]
  },
  {
   "cell_type": "code",
   "execution_count": 12,
   "metadata": {},
   "outputs": [
    {
     "name": "stdout",
     "output_type": "stream",
     "text": [
      "(11610, 8) (11610,)\n",
      "(3870, 8) (3870,)\n",
      "(5160, 8) (5160,)\n"
     ]
    }
   ],
   "source": [
    "from sklearn.model_selection import train_test_split\n",
    "# 注意housing本身的转变 以及train_test_split参数设置\n",
    "x_train_all, x_test, y_train_all, y_test = train_test_split(housing.data, housing.target, random_state=7)\n",
    "x_train, x_valid, y_train, y_valid = train_test_split(x_train_all, y_train_all, random_state=11)\n",
    "print(x_train.shape, y_train.shape)\n",
    "print(x_valid.shape, y_valid.shape)\n",
    "print(x_test.shape, y_test.shape)\n",
    "\n",
    "from sklearn.preprocessing import StandardScaler\n",
    "scaler = StandardScaler()\n",
    "x_train_scaled = scaler.fit_transform(x_train)\n",
    "x_valid_scaled = scaler.transform(x_valid)\n",
    "x_test_scaled = scaler.transform(x_test)"
   ]
  },
  {
   "cell_type": "code",
   "execution_count": null,
   "metadata": {},
   "outputs": [],
   "source": [
    "# 理解Dense在做什么\n",
    "layer = keras.layers.Dense(100, input_shape=[None, 5])\n",
    "layer(tf.zeros([10, 5]))\n",
    "# 结果：<tf.Tensor: id=29, shape=(10, 100), dtype=float32, numpy=\n",
    "# 为什么是(10, 100)啊？？？？ 不应该是(100, 10)吗？\n",
    "#layer.variables\n",
    "# kernel -> w，bias -> b\n",
    "# Dense：全连接层  x * w + b\n",
    "\n",
    "# layer.trainable_variables\n",
    "\n",
    "# 查看其他方法\n",
    "# help(layer)"
   ]
  },
  {
   "cell_type": "code",
   "execution_count": 16,
   "metadata": {},
   "outputs": [
    {
     "name": "stdout",
     "output_type": "stream",
     "text": [
      "Model: \"sequential_2\"\n",
      "_________________________________________________________________\n",
      "Layer (type)                 Output Shape              Param #   \n",
      "=================================================================\n",
      "customized_dense_layer_4 (Cu (None, 30)                270       \n",
      "_________________________________________________________________\n",
      "customized_dense_layer_5 (Cu (None, 1)                 31        \n",
      "=================================================================\n",
      "Total params: 301\n",
      "Trainable params: 301\n",
      "Non-trainable params: 0\n",
      "_________________________________________________________________\n"
     ]
    }
   ],
   "source": [
    "# customized dense layer\n",
    "# 用类的方式实现\n",
    "class CustomizedDenseLayer(keras.layers.Layer):\n",
    "    def __init__(self, units, activation=None, **kwargs):\n",
    "        # 确定层单元数\n",
    "        self.units = units\n",
    "        # activation: Activation function, such as tf.nn.relu, or string name of built-in activation function, such as \"relu\"\n",
    "        self.activation = keras.layers.Activation(activation)\n",
    "        # 继承父类的参数\n",
    "        super(CustomizedDenseLayer, self).__init__(**kwargs)\n",
    "        \n",
    "    def build(self, input_shape):\n",
    "        \"构建所需要的参数\"\n",
    "        # add_weight父类Layer中的子方法，帮助我们得到一个变量\n",
    "        # Dense：全连接层  x * w + b  input_shape=[None, a]  output_shape=[None, b]\n",
    "        # output_shape就是units， kernel的shape=[a, b]\n",
    "        # initializer 初始化方法\n",
    "        self.kernel = self.add_weight(name = 'kernel', shape = (input_shape[1], self.units),\n",
    "                                      initializer = 'uniform', trainable = True)\n",
    "        self.bias = self.add_weight(name = 'bias', shape = (self.units), \n",
    "                                    initializer = 'zeros', trainable = True)\n",
    "        super(CustomizedDenseLayer, self).build(input_shape)\n",
    "    def call(self, x):\n",
    "        \"完成正向计算\"\n",
    "        return self.activation(x @ self.kernel + self.bias)\n",
    "\n",
    "model = keras.models.Sequential([\n",
    "    CustomizedDenseLayer(30, activation='relu', input_shape=x_train.shape[1:]),\n",
    "    CustomizedDenseLayer(1)\n",
    "])\n",
    "model.summary()\n",
    "model.compile(loss='mse', optimizer='adam',\n",
    "              metrics=['mse'])\n",
    "callbacks = [keras.callbacks.EarlyStopping(patience=5, min_delta=1e-2)]\n"
   ]
  },
  {
   "cell_type": "code",
   "execution_count": 17,
   "metadata": {},
   "outputs": [],
   "source": [
    "def draw_learning_curve(history):\n",
    "    pd.DataFrame(history.history).plot(figsize=(8, 5))\n",
    "    plt.grid()\n",
    "    plt.ylim(0, 1)\n",
    "    plt.show()"
   ]
  },
  {
   "cell_type": "code",
   "execution_count": 18,
   "metadata": {
    "scrolled": false
   },
   "outputs": [
    {
     "name": "stdout",
     "output_type": "stream",
     "text": [
      "Train on 11610 samples, validate on 3870 samples\n",
      "Epoch 1/10\n",
      "11610/11610 [==============================] - 1s 122us/sample - loss: 1.8915 - mse: 1.8915 - val_loss: 0.6531 - val_mse: 0.6531\n",
      "Epoch 2/10\n",
      "11610/11610 [==============================] - 1s 46us/sample - loss: 0.5089 - mse: 0.5089 - val_loss: 0.4813 - val_mse: 0.4813\n",
      "Epoch 3/10\n",
      "11610/11610 [==============================] - 1s 47us/sample - loss: 0.4361 - mse: 0.4361 - val_loss: 0.4464 - val_mse: 0.4464\n",
      "Epoch 4/10\n",
      "11610/11610 [==============================] - ETA: 0s - loss: 0.4228 - mse: 0.422 - 1s 46us/sample - loss: 0.4227 - mse: 0.4227 - val_loss: 0.4470 - val_mse: 0.4470\n",
      "Epoch 5/10\n",
      "11610/11610 [==============================] - 1s 46us/sample - loss: 0.4150 - mse: 0.4150 - val_loss: 0.4451 - val_mse: 0.4451\n",
      "Epoch 6/10\n",
      "11610/11610 [==============================] - 1s 49us/sample - loss: 0.4077 - mse: 0.4077 - val_loss: 0.4192 - val_mse: 0.4192\n",
      "Epoch 7/10\n",
      "11610/11610 [==============================] - 1s 46us/sample - loss: 0.4037 - mse: 0.4037 - val_loss: 0.4172 - val_mse: 0.4172\n",
      "Epoch 8/10\n",
      "11610/11610 [==============================] - 1s 45us/sample - loss: 0.3974 - mse: 0.3974 - val_loss: 0.4085 - val_mse: 0.4085\n",
      "Epoch 9/10\n",
      "11610/11610 [==============================] - 1s 46us/sample - loss: 0.3909 - mse: 0.3909 - val_loss: 0.4098 - val_mse: 0.4098\n",
      "Epoch 10/10\n",
      "11610/11610 [==============================] - 1s 45us/sample - loss: 0.3902 - mse: 0.3902 - val_loss: 0.4008 - val_mse: 0.4008\n"
     ]
    },
    {
     "data": {
      "image/png": "[encoded data removed]",
      "text/plain": [
       "<Figure size 576x360 with 1 Axes>"
      ]
     },
     "metadata": {
      "needs_background": "light"
     },
     "output_type": "display_data"
    }
   ],
   "source": [
    "history = model.fit(x_train_scaled, y_train,\n",
    "                   validation_data = [x_valid_scaled, y_valid],\n",
    "                   epochs=10, callbacks=callbacks)\n",
    "draw_learning_curve(history)"
   ]
  },
  {
   "cell_type": "code",
   "execution_count": null,
   "metadata": {
    "scrolled": false
   },
   "outputs": [],
   "source": [
    "model.evaluate(x_test_scaled, y_test)"
   ]
  },
  {
   "cell_type": "markdown",
   "metadata": {},
   "source": [
    "Dense带参数， 若是不带参数的简单层次\n",
    "可以用lambda定义层次\n",
    "softplus激活函数： log(1 + e^x)"
   ]
  },
  {
   "cell_type": "code",
   "execution_count": 21,
   "metadata": {},
   "outputs": [
    {
     "name": "stdout",
     "output_type": "stream",
     "text": [
      "tf.Tensor([4.5417706e-05 6.7153489e-03 6.9314718e-01 5.0067153e+00 1.0000046e+01], shape=(5,), dtype=float32)\n"
     ]
    }
   ],
   "source": [
    "customized_softplus = keras.layers.Lambda(lambda x : tf.nn.softplus(x))\n",
    "print(customized_softplus([-10., -5., 0., 5., 10.]))"
   ]
  },
  {
   "cell_type": "code",
   "execution_count": 24,
   "metadata": {},
   "outputs": [
    {
     "name": "stdout",
     "output_type": "stream",
     "text": [
      "Model: \"sequential_3\"\n",
      "_________________________________________________________________\n",
      "Layer (type)                 Output Shape              Param #   \n",
      "=================================================================\n",
      "customized_dense_layer_6 (Cu (None, 30)                270       \n",
      "_________________________________________________________________\n",
      "customized_dense_layer_7 (Cu (None, 1)                 31        \n",
      "_________________________________________________________________\n",
      "lambda_1 (Lambda)            (None, 1)                 0         \n",
      "=================================================================\n",
      "Total params: 301\n",
      "Trainable params: 301\n",
      "Non-trainable params: 0\n",
      "_________________________________________________________________\n"
     ]
    }
   ],
   "source": [
    "model = keras.models.Sequential([\n",
    "    CustomizedDenseLayer(30, activation='relu', input_shape=x_train.shape[1:]),\n",
    "    CustomizedDenseLayer(1),\n",
    "    customized_softplus\n",
    "    # 等于 keras.layers.Dense(1, activation='softplus')\n",
    "])\n",
    "model.summary()"
   ]
  },
  {
   "cell_type": "code",
   "execution_count": null,
   "metadata": {},
   "outputs": [],
   "source": []
  }
 ],
 "metadata": {
  "kernelspec": {
   "display_name": "Python 3",
   "language": "python",
   "name": "python3"
  },
  "language_info": {
   "codemirror_mode": {
    "name": "ipython",
    "version": 3
   },
   "file_extension": ".py",
   "mimetype": "text/x-python",
   "name": "python",
   "nbconvert_exporter": "python",
   "pygments_lexer": "ipython3",
   "version": "3.6.10"
  }
 },
 "nbformat": 4,
 "nbformat_minor": 2
}

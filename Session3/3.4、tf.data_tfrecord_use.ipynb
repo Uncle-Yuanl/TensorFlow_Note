{
 "cells": [
  {
   "cell_type": "code",
   "execution_count": 1,
   "metadata": {},
   "outputs": [],
   "source": [
    "from IPython.core.interactiveshell import InteractiveShell\n",
    "InteractiveShell.ast_node_interactivity = \"all\" "
   ]
  },
  {
   "cell_type": "code",
   "execution_count": 2,
   "metadata": {},
   "outputs": [],
   "source": [
    "import numpy as np\n",
    "import os\n",
    "import gzip\n",
    "\n",
    "import tensorflow as tf\n",
    "from tensorflow import keras\n",
    "import pandas as pd\n",
    "import matplotlib as mpl\n",
    "import matplotlib.pyplot as plt"
   ]
  },
  {
   "cell_type": "code",
   "execution_count": 3,
   "metadata": {},
   "outputs": [
    {
     "name": "stdout",
     "output_type": "stream",
     "text": [
      "['test_00.csv', 'test_01.csv', 'test_02.csv', 'test_03.csv', 'test_04.csv', 'test_05.csv', 'test_06.csv', 'test_07.csv', 'test_08.csv', 'test_09.csv', 'train_00.csv', 'train_01.csv', 'train_02.csv', 'train_03.csv', 'train_04.csv', 'train_05.csv', 'train_06.csv', 'train_07.csv', 'train_08.csv', 'train_09.csv', 'train_10.csv', 'train_11.csv', 'train_12.csv', 'train_13.csv', 'train_14.csv', 'train_15.csv', 'train_16.csv', 'train_17.csv', 'train_18.csv', 'train_19.csv', 'valid_00.csv', 'valid_01.csv', 'valid_02.csv', 'valid_03.csv', 'valid_04.csv', 'valid_05.csv', 'valid_06.csv', 'valid_07.csv', 'valid_08.csv', 'valid_09.csv']\n",
      "['./generate_csv/train_00.csv',\n",
      " './generate_csv/train_01.csv',\n",
      " './generate_csv/train_02.csv',\n",
      " './generate_csv/train_03.csv',\n",
      " './generate_csv/train_04.csv',\n",
      " './generate_csv/train_05.csv',\n",
      " './generate_csv/train_06.csv',\n",
      " './generate_csv/train_07.csv',\n",
      " './generate_csv/train_08.csv',\n",
      " './generate_csv/train_09.csv',\n",
      " './generate_csv/train_10.csv',\n",
      " './generate_csv/train_11.csv',\n",
      " './generate_csv/train_12.csv',\n",
      " './generate_csv/train_13.csv',\n",
      " './generate_csv/train_14.csv',\n",
      " './generate_csv/train_15.csv',\n",
      " './generate_csv/train_16.csv',\n",
      " './generate_csv/train_17.csv',\n",
      " './generate_csv/train_18.csv',\n",
      " './generate_csv/train_19.csv']\n",
      "['./generate_csv/valid_00.csv',\n",
      " './generate_csv/valid_01.csv',\n",
      " './generate_csv/valid_02.csv',\n",
      " './generate_csv/valid_03.csv',\n",
      " './generate_csv/valid_04.csv',\n",
      " './generate_csv/valid_05.csv',\n",
      " './generate_csv/valid_06.csv',\n",
      " './generate_csv/valid_07.csv',\n",
      " './generate_csv/valid_08.csv',\n",
      " './generate_csv/valid_09.csv']\n",
      "['./generate_csv/test_00.csv',\n",
      " './generate_csv/test_01.csv',\n",
      " './generate_csv/test_02.csv',\n",
      " './generate_csv/test_03.csv',\n",
      " './generate_csv/test_04.csv',\n",
      " './generate_csv/test_05.csv',\n",
      " './generate_csv/test_06.csv',\n",
      " './generate_csv/test_07.csv',\n",
      " './generate_csv/test_08.csv',\n",
      " './generate_csv/test_09.csv']\n"
     ]
    }
   ],
   "source": [
    "source_dir = \"./generate_csv/\"\n",
    "print(os.listdir(source_dir))\n",
    "\n",
    "def get_filenames_by_prefix(source_dir, prefix_name):\n",
    "    all_files = os.listdir(source_dir)\n",
    "    results = []\n",
    "    for filename in all_files:\n",
    "        if filename.startswith(prefix_name):\n",
    "            results.append(os.path.join(source_dir, filename))\n",
    "    return results\n",
    "\n",
    "train_filenames = get_filenames_by_prefix(source_dir, \"train\")\n",
    "valid_filenames = get_filenames_by_prefix(source_dir, \"valid\")\n",
    "test_filenames = get_filenames_by_prefix(source_dir, \"test\")\n",
    "\n",
    "import pprint\n",
    "pprint.pprint(train_filenames)\n",
    "pprint.pprint(valid_filenames)\n",
    "pprint.pprint(test_filenames)"
   ]
  },
  {
   "cell_type": "code",
   "execution_count": 4,
   "metadata": {},
   "outputs": [],
   "source": [
    "# copy读取csv文件的代码，修改\n",
    "def csv_reader_dataset(filenames, n_readers=5,\n",
    "                       batch_size=32, n_parse_threads=5,\n",
    "                       shuffle_buffer_size=10000):\n",
    "    dataset = tf.data.Dataset.list_files(filenames)\n",
    "    dataset = dataset.repeat()\n",
    "    dataset = dataset.interleave(lambda filename: tf.data.TextLineDataset(filename).skip(1),\n",
    "                                 cycle_length=n_readers)\n",
    "    dataset.shuffle(shuffle_buffer_size)\n",
    "    dataset = dataset.map(parse_csv_line, num_parallel_calls=n_parse_threads)\n",
    "    dataset = dataset.batch(batch_size)\n",
    "    return dataset\n",
    "    \n",
    "def parse_csv_line(line, n_fields=9):\n",
    "    defs = [tf.constant(np.nan)] * n_fields\n",
    "    parsed_fields = tf.io.decode_csv(line, record_defaults=defs)\n",
    "    x = tf.stack(parsed_fields[0:-1])\n",
    "    y = tf.stack(parsed_fields[-1:])\n",
    "    return x, y\n",
    "\n",
    "batch_size = 32\n",
    "train_set = csv_reader_dataset(train_filenames, batch_size=batch_size)\n",
    "valid_set = csv_reader_dataset(valid_filenames, batch_size=batch_size)\n",
    "test_set = csv_reader_dataset(test_filenames, batch_size=batch_size)"
   ]
  },
  {
   "cell_type": "code",
   "execution_count": 5,
   "metadata": {},
   "outputs": [],
   "source": [
    "# 遍历train_set、valid_set、test_set，数据写入tfrecord文件中\n",
    "# step 1:\n",
    "def serialize_example(x, y):\n",
    "    \"converts x, y to tf.train.Example and serialize\"\n",
    "    # 这里自己加了.numpy() 不然报错希望real num\n",
    "    input_features = tf.train.FloatList(value = x.numpy())\n",
    "    label = tf.train.FloatList(value = y.numpy())\n",
    "    features = tf.train.Features(\n",
    "        feature = {\n",
    "            \"input_features\": tf.train.Feature(float_list = input_features),\n",
    "            \"label\": tf.train.Feature(float_list = label)\n",
    "        }       \n",
    "    )\n",
    "    example = tf.train.Example(features = features)\n",
    "    return example.SerializeToString()\n",
    "\n",
    "# step 2:\n",
    "def csv_dataset_to_tfrecords(base_filename, dataset, n_shards,\n",
    "                            steps_per_shard, compression_type=None):\n",
    "    options = tf.io.TFRecordOptions(compression_type=compression_type)\n",
    "    all_filenames = []\n",
    "    for shard_id in range(n_shards):\n",
    "        filename_fullpath = '{}_{:05d}-of-{:05d}'.format(\n",
    "            base_filename, shard_id, n_shards)\n",
    "        with tf.io.TFRecordWriter(filename_fullpath, options) as writer:\n",
    "            for x_batch, y_batch in dataset.take(steps_per_shard):\n",
    "                for x_example, y_example in zip(x_batch, y_batch):\n",
    "                    writer.write(serialize_example(x_example, y_example))\n",
    "        all_filenames.append(filename_fullpath)\n",
    "    return all_filenames"
   ]
  },
  {
   "cell_type": "code",
   "execution_count": 18,
   "metadata": {},
   "outputs": [],
   "source": [
    "# 调用\n",
    "n_shards = 20\n",
    "train_steps_per_shard = 11610 // batch_size // n_shards\n",
    "valid_steps_per_shard = 3880 // batch_size // n_shards\n",
    "test_steps_per_shard = 5170 // batch_size // n_shards\n",
    "\n",
    "output_dir = \"generate_tfrecords\"\n",
    "if not os.path.exists(output_dir):\n",
    "    os.mkdir(output_dir)\n",
    "\n",
    "train_basename = os.path.join(output_dir, \"train\")\n",
    "valid_basename = os.path.join(output_dir, \"valid\")\n",
    "test_basename = os.path.join(output_dir, \"test\")\n",
    "\n",
    "train_tfrecord_filenames = csv_dataset_to_tfrecords(\n",
    "    train_basename, train_set, n_shards, train_steps_per_shard, None)\n",
    "valid_tfrecord_filenames = csv_dataset_to_tfrecords(\n",
    "    valid_basename, valid_set, n_shards, valid_steps_per_shard, None)\n",
    "test_tfrecord_filenames = csv_dataset_to_tfrecords(\n",
    "    test_basename, test_set, n_shards, test_steps_per_shard, None)"
   ]
  },
  {
   "cell_type": "code",
   "execution_count": 15,
   "metadata": {
    "scrolled": false
   },
   "outputs": [
    {
     "name": "stdout",
     "output_type": "stream",
     "text": [
      "tf.Tensor(\n",
      "[[ 0.81150836 -0.04823952  0.5187339  -0.0293864  -0.03406402 -0.05081595\n",
      "  -0.7157357   0.91627514]\n",
      " [ 0.63034356  1.8741661  -0.06713215 -0.12543367 -0.19737554 -0.02272263\n",
      "  -0.69240725  0.72652334]\n",
      " [ 0.04326301 -1.0895426  -0.38878718 -0.10789865 -0.68186635 -0.0723871\n",
      "  -0.8883662   0.8213992 ]], shape=(3, 8), dtype=float32) tf.Tensor(\n",
      "[[2.147]\n",
      " [2.419]\n",
      " [1.426]], shape=(3, 1), dtype=float32)\n",
      "tf.Tensor(\n",
      "[[ 0.15782312  0.4323619   0.3379948  -0.01588031 -0.37338907 -0.05305246\n",
      "   0.80061346 -1.2359096 ]\n",
      " [-1.0591781   1.3935647  -0.02633197 -0.1100676  -0.6138199  -0.09695935\n",
      "   0.3247131  -0.03747724]\n",
      " [ 0.40127665 -0.92934215 -0.0533305  -0.18659453  0.65456617  0.02643447\n",
      "   0.9312528  -1.4406418 ]], shape=(3, 8), dtype=float32) tf.Tensor(\n",
      "[[3.169]\n",
      " [0.672]\n",
      " [2.512]], shape=(3, 1), dtype=float32)\n"
     ]
    }
   ],
   "source": [
    "# 读取文件\n",
    "expected_features = {\n",
    "    \"input_features\" : tf.io.FixedLenFeature([8], dtype=tf.float32),\n",
    "    \"label\": tf.io.FixedLenFeature([1], dtype=tf.float32)\n",
    "}\n",
    "def parse_example(serialized_example):\n",
    "    example = tf.io.parse_single_example(serialized_example,\n",
    "                                         expected_features)\n",
    "    return example[\"input_features\"], example[\"label\"]\n",
    "\n",
    "def tfrecords_reader_dataset(filenames, n_readers=5, batch_size=32,\n",
    "                       n_parse_threads=5, shuffle_buffer_size=10000):\n",
    "    dataset = tf.data.Dataset.list_files(filenames)\n",
    "    dataset = dataset.repeat()\n",
    "    dataset = dataset.interleave(lambda filename: tf.data.TFRecordDataset(filename).skip(1),\n",
    "                                          cycle_length=n_readers)\n",
    "    dataset.shuffle(shuffle_buffer_size)\n",
    "    dataset = dataset.map(parse_example, num_parallel_calls=n_parse_threads)\n",
    "    dataset = dataset.batch(batch_size)\n",
    "    return dataset\n",
    "\n",
    "tfrecords_train = tfrecoder_reader_dataset(train_tfrecord_filenames, batch_size=3)\n",
    "for x_batch, y_batch in tfrecords_train.take(2):\n",
    "    print(x_batch, y_batch)\n"
   ]
  },
  {
   "cell_type": "code",
   "execution_count": 23,
   "metadata": {},
   "outputs": [
    {
     "name": "stdout",
     "output_type": "stream",
     "text": [
      "Train for 348 steps, validate for 120 steps\n",
      "Epoch 1/100\n",
      "348/348 [==============================] - 1s 4ms/step - loss: 0.7906 - val_loss: 0.5762\n",
      "Epoch 2/100\n",
      "348/348 [==============================] - 1s 2ms/step - loss: 0.4714 - val_loss: 0.5054\n",
      "Epoch 3/100\n",
      "348/348 [==============================] - 1s 2ms/step - loss: 0.4266 - val_loss: 0.4591\n",
      "Epoch 4/100\n",
      "348/348 [==============================] - 1s 2ms/step - loss: 0.4104 - val_loss: 0.4500\n",
      "Epoch 5/100\n",
      "348/348 [==============================] - 1s 2ms/step - loss: 0.3986 - val_loss: 0.4269\n",
      "Epoch 6/100\n",
      "348/348 [==============================] - 1s 2ms/step - loss: 0.3978 - val_loss: 0.4267\n",
      "Epoch 7/100\n",
      "348/348 [==============================] - 1s 2ms/step - loss: 0.4177 - val_loss: 0.3996\n",
      "Epoch 8/100\n",
      "348/348 [==============================] - 1s 2ms/step - loss: 0.4534 - val_loss: 0.4683\n",
      "Epoch 9/100\n",
      "348/348 [==============================] - 1s 2ms/step - loss: 0.3686 - val_loss: 0.4064\n",
      "Epoch 10/100\n",
      "348/348 [==============================] - 1s 2ms/step - loss: 0.3644 - val_loss: 0.3982\n",
      "Epoch 11/100\n",
      "348/348 [==============================] - 1s 2ms/step - loss: 0.3514 - val_loss: 0.4126\n",
      "Epoch 12/100\n",
      "348/348 [==============================] - 1s 2ms/step - loss: 0.3393 - val_loss: 0.3834\n",
      "Epoch 13/100\n",
      "348/348 [==============================] - 1s 2ms/step - loss: 0.3441 - val_loss: 0.3862\n",
      "Epoch 14/100\n",
      "348/348 [==============================] - 1s 2ms/step - loss: 0.3350 - val_loss: 0.3801\n",
      "Epoch 15/100\n",
      "348/348 [==============================] - 1s 2ms/step - loss: 0.3365 - val_loss: 0.3790\n",
      "Epoch 16/100\n",
      "348/348 [==============================] - 1s 2ms/step - loss: 0.3356 - val_loss: 0.3899\n",
      "Epoch 17/100\n",
      "348/348 [==============================] - 1s 2ms/step - loss: 0.3304 - val_loss: 0.3659\n",
      "Epoch 18/100\n",
      "348/348 [==============================] - 1s 2ms/step - loss: 0.3124 - val_loss: 0.3655\n",
      "Epoch 19/100\n",
      "348/348 [==============================] - 1s 2ms/step - loss: 0.3309 - val_loss: 0.3870\n",
      "Epoch 20/100\n",
      "348/348 [==============================] - 1s 2ms/step - loss: 0.3133 - val_loss: 0.3698\n",
      "Epoch 21/100\n",
      "348/348 [==============================] - 1s 2ms/step - loss: 0.3205 - val_loss: 0.3752\n",
      "Epoch 22/100\n",
      "348/348 [==============================] - 1s 2ms/step - loss: 0.3140 - val_loss: 0.3639\n"
     ]
    }
   ],
   "source": [
    "# 生成训练中使用的训练集\n",
    "batch_size = 32\n",
    "tfrecords_train_set = tfrecords_reader_dataset(train_tfrecord_filenames, batch_size = batch_size)\n",
    "tfrecords_valid_set = tfrecords_reader_dataset(valid_tfrecord_filenames, batch_size = batch_size)\n",
    "tfrecords_test_set = tfrecords_reader_dataset(valid_tfrecord_filenames, batch_size = batch_size)\n",
    "model = keras.models.Sequential([\n",
    "    keras.layers.Dense(30, activation='relu', input_shape=[8]),\n",
    "    keras.layers.Dense(1)\n",
    "])\n",
    "model.compile(loss='mse', optimizer='sgd')\n",
    "callbacks = [keras.callbacks.EarlyStopping(patience=5, min_delta=1e-2)]\n",
    "history = model.fit(tfrecords_train_set,\n",
    "                    steps_per_epoch = 11160 // batch_size,\n",
    "                    validation_data = tfrecords_valid_set,\n",
    "                    validation_steps = 3870 // batch_size,\n",
    "                    epochs = 100,\n",
    "                    callbacks = callbacks)"
   ]
  },
  {
   "cell_type": "code",
   "execution_count": 24,
   "metadata": {},
   "outputs": [
    {
     "name": "stdout",
     "output_type": "stream",
     "text": [
      "161/161 [==============================] - 0s 882us/step - loss: 0.3721\n"
     ]
    },
    {
     "data": {
      "text/plain": [
       "0.3720605820880173"
      ]
     },
     "execution_count": 24,
     "metadata": {},
     "output_type": "execute_result"
    }
   ],
   "source": [
    "model.evaluate(tfrecords_test_set, steps = 5160 // batch_size)"
   ]
  },
  {
   "cell_type": "code",
   "execution_count": null,
   "metadata": {},
   "outputs": [],
   "source": []
  }
 ],
 "metadata": {
  "kernelspec": {
   "display_name": "Python 3",
   "language": "python",
   "name": "python3"
  },
  "language_info": {
   "codemirror_mode": {
    "name": "ipython",
    "version": 3
   },
   "file_extension": ".py",
   "mimetype": "text/x-python",
   "name": "python",
   "nbconvert_exporter": "python",
   "pygments_lexer": "ipython3",
   "version": "3.6.10"
  }
 },
 "nbformat": 4,
 "nbformat_minor": 2
}
